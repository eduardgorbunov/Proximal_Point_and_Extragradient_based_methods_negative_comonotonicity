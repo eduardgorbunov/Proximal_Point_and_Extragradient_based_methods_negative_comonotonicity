{
 "cells": [
  {
   "cell_type": "markdown",
   "id": "9c117011",
   "metadata": {},
   "source": [
    "# Code description"
   ]
  },
  {
   "cell_type": "markdown",
   "id": "8b460ebb",
   "metadata": {},
   "source": [
    "In this notebook, we verify the part of the proof of Lemma C.8 from \n",
    "\n",
    "> \"Convergence of Proximal Point and Extragradient-Based Methods Beyond Monotonicity: the Case of Negative Comonotonicity\"\n",
    "\n",
    "that involves estimation of $T_k$."
   ]
  },
  {
   "cell_type": "markdown",
   "id": "3295693c",
   "metadata": {},
   "source": [
    "## Problem"
   ]
  },
  {
   "cell_type": "markdown",
   "id": "28ef7d73",
   "metadata": {},
   "source": [
    "We consider the following problem\n",
    "       $$ \\text{find } x^\\ast \\text{ such that }F(x^\\ast) = 0$$\n",
    "where $F:\\mathbb{R}^d \\to \\mathbb{R}^d$ is $\\rho$-negative comonotone and $L$-Lipschitz operator."
   ]
  },
  {
   "cell_type": "markdown",
   "id": "76698932",
   "metadata": {},
   "source": [
    "## Algorithm"
   ]
  },
  {
   "cell_type": "markdown",
   "id": "2959ff34",
   "metadata": {},
   "source": [
    "We consider Optimistic Gradient method (OG) with same-stepsize policy: $\\tilde{x}^0 = x^0$ and for all $k > 0$\n",
    "$$\n",
    "\\tilde{x}^k = x^k - \\gamma F(\\tilde{x}^{k-1}),\n",
    "$$\n",
    "$$\n",
    "x^{k+1} = x^k - \\gamma F(\\tilde{x}^k)\n",
    "$$"
   ]
  },
  {
   "cell_type": "markdown",
   "id": "bf59eac7",
   "metadata": {},
   "source": [
    "## The goal"
   ]
  },
  {
   "cell_type": "markdown",
   "id": "3d6c496c",
   "metadata": {},
   "source": [
    "Let $k \\geq 1$ and \n",
    "\n",
    "$$\n",
    "T_k = \\frac{2\\rho}{\\gamma}\\|F(x^{k}) - F(x^{k+1})\\|^2 + \\left(\\frac{1}{3} + 3L^2\\gamma^2\\right)\\|F(\\tilde{x}^{k-1}) - F(\\tilde{x}^{k})\\|^2 - \\frac{2}{3}\\left(1 - \\frac{\\rho}{\\gamma}\\right)\\|F(x^{k+1}) - F(\\tilde{x}^k)\\|^2\n",
    "$$\n",
    "$$\n",
    " - \\|F(x^k) - F(\\tilde{x}^{k-1})\\|^2 - \\frac{1}{3}\\|F(x^{k+1}) - F(\\tilde{x}^{k-1})\\|^2 - \\|F(x^{k}) - F(\\tilde{x}^k)\\|^2.\n",
    "$$\n",
    "\n",
    "In the proof of Lemma C.8, we derive\n",
    "$$\n",
    "\\Psi_{k+1} - \\Psi_k \\leq T_k,\n",
    "$$\n",
    "where $\\Psi_k = \\|F(x^{k})\\|^2 + \\|F(x^{k}) - F(\\tilde{x}^{k-1})\\|^2$.\n",
    "\n",
    "Below using the symbolic computations we verify the formula for $T_k$ and also show numerically that\n",
    "$$\n",
    "\\begin{pmatrix} -\\frac{1}{3} & -\\frac{1}{2} &  \\frac{1}{2} & \\frac{1}{3} \\\\ -\\frac{1}{2} & -\\frac{3}{2} & 1 & 1\\\\ \\frac{1}{2} & 1 & -\\frac{4927}{5766} & - \\frac{1861}{2883}\\\\ \\frac{1}{3} & 1 & - \\frac{1861}{2883} & - \\frac{661}{961}\\end{pmatrix} \\preccurlyeq -\\frac{1}{100}\\begin{pmatrix} 0 & 0 &  0 & 0 \\\\ 0 & 0 &  0 & 0\\\\ 0 & 0 &  1 & -1\\\\ 0 & 0 &  -1 & 1\\end{pmatrix}.\n",
    "$$"
   ]
  },
  {
   "cell_type": "code",
   "execution_count": 1,
   "id": "387bb7a9",
   "metadata": {},
   "outputs": [],
   "source": [
    "import sympy\n",
    "from sympy import Matrix, symbols, Rational"
   ]
  },
  {
   "cell_type": "code",
   "execution_count": 2,
   "id": "0423e474",
   "metadata": {},
   "outputs": [],
   "source": [
    "L = symbols('L', positive=True)\n",
    "gamma = symbols('g', positive=True)\n",
    "rho = symbols('r', positive=True)\n",
    "\n",
    "xk2 = symbols('x_k+1') #this is $x^{k+1}$\n",
    "xk1 = symbols('x_k') #this is $x^k$\n",
    "\n",
    "xtk1 = symbols('y_k+1') #this is $\\tilde{x}^{k}$\n",
    "xtk = symbols('y_k') #this is $\\tilde{x}^{k-1}$"
   ]
  },
  {
   "cell_type": "code",
   "execution_count": 3,
   "id": "086415bc",
   "metadata": {},
   "outputs": [],
   "source": [
    "#Left-hand sides of inequalities that we sum up in the proof of Lemma C.4\n",
    "LHS_1 = - 2/3 * rho / gamma * (xk2 - xtk1)**2\n",
    "LHS_2 = - 2 * rho / gamma * (xk1 - xk2)**2\n",
    "LHS_3 = 3 * (xk2 - xtk1)**2\n",
    "\n",
    "#Right-hand sides of inequalities that we sum up in the proof of Lemma C.4\n",
    "RHS_1 = 2/3 * (xk2 - xtk1) * (xtk - xtk1)\n",
    "RHS_2 = 2 * (xk1 - xk2) * (xtk1)\n",
    "RHS_3 = 3 * L**2 * gamma**2 * (xtk - xtk1)**2\n",
    "\n",
    "#Potentials\n",
    "Psik1 = (xk2)**2 + (xk2 - xtk1)**2\n",
    "Psik = (xk1)**2 + (xk1 - xtk)**2"
   ]
  },
  {
   "cell_type": "code",
   "execution_count": 4,
   "id": "b0484880",
   "metadata": {},
   "outputs": [],
   "source": [
    "# Below we compute $T_k$ using symbolic computations\n",
    "Tk_derived_by_sympy = (RHS_1 + RHS_2 + RHS_3) - (LHS_1 + LHS_2 + LHS_3) + Psik1 - Psik"
   ]
  },
  {
   "cell_type": "code",
   "execution_count": 5,
   "id": "d1957c7f",
   "metadata": {},
   "outputs": [],
   "source": [
    "# Expression we derive in Lemma C.4\n",
    "Term1 = 2*rho/gamma * (xk1 - xk2)**2\n",
    "Term2 = (1/3 + 3 * L**2 * gamma**2) * (xtk - xtk1)**2\n",
    "Term3 = - 2/3 * (1 - rho/gamma) * (xk2 - xtk1)**2\n",
    "Term4 = - (xk1 - xtk)**2\n",
    "Term5 = - 1/3 * (xk2 - xtk)**2\n",
    "Term6 = - (xk1 - xtk1)**2\n",
    "\n",
    "Tk_derived_in_Lemma_C4 = Term1 + Term2 + Term3 + Term4 + Term5 + Term6"
   ]
  },
  {
   "cell_type": "code",
   "execution_count": 6,
   "id": "1442b394",
   "metadata": {},
   "outputs": [
    {
     "data": {
      "text/latex": [
       "$\\displaystyle \\frac{g \\left(9 L^{2} g^{2} y_{k}^{2} - 18 L^{2} g^{2} y_{k} y_{k+1} + 9 L^{2} g^{2} y_{k+1}^{2} - 6 x_{k}^{2} + 6 x_{k} y_{k} + 6 x_{k} y_{k+1} - 3 x_{k+1}^{2} + 2 x_{k+1} y_{k} + 4 x_{k+1} y_{k+1} - 3 y_{k}^{2} - 2 y_{k} y_{k+1} - 4 y_{k+1}^{2}\\right) + 6 r x_{k}^{2} - 12 r x_{k} x_{k+1} + 8 r x_{k+1}^{2} - 4 r x_{k+1} y_{k+1} + 2 r y_{k+1}^{2}}{3 g}$"
      ],
      "text/plain": [
       "(g*(9*L**2*g**2*y_k**2 - 18*L**2*g**2*y_k*y_k+1 + 9*L**2*g**2*y_k+1**2 - 6*x_k**2 + 6*x_k*y_k + 6*x_k*y_k+1 - 3*x_k+1**2 + 2*x_k+1*y_k + 4*x_k+1*y_k+1 - 3*y_k**2 - 2*y_k*y_k+1 - 4*y_k+1**2) + 6*r*x_k**2 - 12*r*x_k*x_k+1 + 8*r*x_k+1**2 - 4*r*x_k+1*y_k+1 + 2*r*y_k+1**2)/(3*g)"
      ]
     },
     "execution_count": 6,
     "metadata": {},
     "output_type": "execute_result"
    }
   ],
   "source": [
    "Tk_derived_by_sympy.expand().simplify(rational=True)"
   ]
  },
  {
   "cell_type": "code",
   "execution_count": 7,
   "id": "b778bc11",
   "metadata": {},
   "outputs": [
    {
     "data": {
      "text/latex": [
       "$\\displaystyle \\frac{g \\left(9 L^{2} g^{2} y_{k}^{2} - 18 L^{2} g^{2} y_{k} y_{k+1} + 9 L^{2} g^{2} y_{k+1}^{2} - 6 x_{k}^{2} + 6 x_{k} y_{k} + 6 x_{k} y_{k+1} - 3 x_{k+1}^{2} + 2 x_{k+1} y_{k} + 4 x_{k+1} y_{k+1} - 3 y_{k}^{2} - 2 y_{k} y_{k+1} - 4 y_{k+1}^{2}\\right) + 6 r x_{k}^{2} - 12 r x_{k} x_{k+1} + 8 r x_{k+1}^{2} - 4 r x_{k+1} y_{k+1} + 2 r y_{k+1}^{2}}{3 g}$"
      ],
      "text/plain": [
       "(g*(9*L**2*g**2*y_k**2 - 18*L**2*g**2*y_k*y_k+1 + 9*L**2*g**2*y_k+1**2 - 6*x_k**2 + 6*x_k*y_k + 6*x_k*y_k+1 - 3*x_k+1**2 + 2*x_k+1*y_k + 4*x_k+1*y_k+1 - 3*y_k**2 - 2*y_k*y_k+1 - 4*y_k+1**2) + 6*r*x_k**2 - 12*r*x_k*x_k+1 + 8*r*x_k+1**2 - 4*r*x_k+1*y_k+1 + 2*r*y_k+1**2)/(3*g)"
      ]
     },
     "execution_count": 7,
     "metadata": {},
     "output_type": "execute_result"
    }
   ],
   "source": [
    "Tk_derived_in_Lemma_C4.expand().simplify(rational=True)"
   ]
  },
  {
   "cell_type": "code",
   "execution_count": 8,
   "id": "622dda89",
   "metadata": {},
   "outputs": [
    {
     "data": {
      "text/latex": [
       "$\\displaystyle x_{k+1} \\cdot \\left(1.11022302462516 \\cdot 10^{-16} x_{k+1} - 3.33066907387547 \\cdot 10^{-16} y_{k+1}\\right)$"
      ],
      "text/plain": [
       "x_k+1*(1.11022302462516e-16*x_k+1 - 3.33066907387547e-16*y_k+1)"
      ]
     },
     "execution_count": 8,
     "metadata": {},
     "output_type": "execute_result"
    }
   ],
   "source": [
    "difference = Tk_derived_in_Lemma_C4 - Tk_derived_by_sympy\n",
    "difference.expand().simplify()"
   ]
  },
  {
   "cell_type": "markdown",
   "id": "d287d6d6",
   "metadata": {},
   "source": [
    "The above three cells verify the correctness of our derivations of inequality $\\Phi_{k+1} - \\Phi_k \\leq T_k$"
   ]
  },
  {
   "cell_type": "markdown",
   "id": "ad037cca",
   "metadata": {},
   "source": [
    "### Matrix form of $T_k$"
   ]
  },
  {
   "cell_type": "markdown",
   "id": "bb759100",
   "metadata": {},
   "source": [
    "One can rewrite $T_k$ as\n",
    "$$\n",
    "T_k = \\begin{pmatrix} F(x^{k+1}) \\\\ F(x^k) \\\\  F(\\tilde{x}^{k}) \\\\  F(\\tilde{x}^{k-1})\\end{pmatrix}^\\top \\left(A(\\gamma, L, \\rho) \\otimes  I_d\\right) \\begin{pmatrix} F(x^{k+1}) \\\\ F(x^k) \\\\  F(\\tilde{x}^{k}) \\\\  F(\\tilde{x}^{k-1})\\end{pmatrix},\n",
    "$$\n",
    "where $A(\\gamma, L, \\rho) \\in \\mathbb{R}^{d\\times d}$ is some $d\\times d$ matrix that can be derived explicitly.\n",
    "In the proof, we use that $A(\\gamma, L, \\rho) \\preccurlyeq A\\left(\\frac{10}{31 L}, L, \\frac{5}{62L}\\right)$. Below we compute $A(\\gamma, L, \\rho)$ and $A\\left(\\frac{10}{31 L}, L, \\frac{5}{62L}\\right)$ symbolically. "
   ]
  },
  {
   "cell_type": "code",
   "execution_count": 9,
   "id": "0f3125b0",
   "metadata": {},
   "outputs": [],
   "source": [
    "matrix_A = Matrix([\n",
    "    [ -gamma + Rational(8,3) * rho, -2*rho, Rational(2,3) * gamma - Rational(2,3) * rho, Rational(1,3) * gamma],\n",
    "    [ -2*rho, -2 * gamma + 2 * rho, gamma, gamma],\n",
    "    [ Rational(2,3) * gamma - Rational(2,3) * rho, gamma,  3 * (L**2) * (gamma**3) - Rational(4,3) * gamma + Rational(2,3) * rho, -3 * L**2 * gamma**3 - Rational(1,3) * gamma],\n",
    "    [ Rational(1,3) * gamma, gamma, -3 * L**2 * gamma**3 - Rational(1,3) * gamma, 3 * L**2 * gamma**3 - gamma]]) / gamma  # xk2, xk1, yk1, yk"
   ]
  },
  {
   "cell_type": "code",
   "execution_count": 10,
   "id": "268ba18f",
   "metadata": {},
   "outputs": [
    {
     "data": {
      "text/latex": [
       "$\\displaystyle \\left[\\begin{matrix}-1 + \\frac{8 r}{3 g} & - \\frac{2 r}{g} & \\frac{2}{3} - \\frac{2 r}{3 g} & \\frac{1}{3}\\\\- \\frac{2 r}{g} & -2 + \\frac{2 r}{g} & 1 & 1\\\\\\frac{2}{3} - \\frac{2 r}{3 g} & 1 & 3 L^{2} g^{2} - \\frac{4}{3} + \\frac{2 r}{3 g} & - 3 L^{2} g^{2} - \\frac{1}{3}\\\\\\frac{1}{3} & 1 & - 3 L^{2} g^{2} - \\frac{1}{3} & 3 L^{2} g^{2} - 1\\end{matrix}\\right]$"
      ],
      "text/plain": [
       "Matrix([\n",
       "[ -1 + 8*r/(3*g),     -2*r/g,               2/3 - 2*r/(3*g),                1/3],\n",
       "[         -2*r/g, -2 + 2*r/g,                             1,                  1],\n",
       "[2/3 - 2*r/(3*g),          1, 3*L**2*g**2 - 4/3 + 2*r/(3*g), -3*L**2*g**2 - 1/3],\n",
       "[            1/3,          1,            -3*L**2*g**2 - 1/3,    3*L**2*g**2 - 1]])"
      ]
     },
     "execution_count": 10,
     "metadata": {},
     "output_type": "execute_result"
    }
   ],
   "source": [
    "matrix_A.expand()"
   ]
  },
  {
   "cell_type": "code",
   "execution_count": 11,
   "id": "de65f08c",
   "metadata": {},
   "outputs": [
    {
     "data": {
      "text/latex": [
       "$\\displaystyle \\left[\\begin{matrix}- \\frac{1}{3} & - \\frac{1}{2} & \\frac{1}{2} & \\frac{1}{3}\\\\- \\frac{1}{2} & - \\frac{3}{2} & 1 & 1\\\\\\frac{1}{2} & 1 & - \\frac{4927}{5766} & - \\frac{1861}{2883}\\\\\\frac{1}{3} & 1 & - \\frac{1861}{2883} & - \\frac{661}{961}\\end{matrix}\\right]$"
      ],
      "text/plain": [
       "Matrix([\n",
       "[-1/3, -1/2,        1/2,        1/3],\n",
       "[-1/2, -3/2,          1,          1],\n",
       "[ 1/2,    1, -4927/5766, -1861/2883],\n",
       "[ 1/3,    1, -1861/2883,   -661/961]])"
      ]
     },
     "execution_count": 11,
     "metadata": {},
     "output_type": "execute_result"
    }
   ],
   "source": [
    "matrix_A.subs({gamma: Rational(10,31), L : Rational(1,1), rho : Rational(5,62)})"
   ]
  },
  {
   "cell_type": "markdown",
   "id": "445e633d",
   "metadata": {},
   "source": [
    "That is, the code above verifies that for $\\gamma \\leq \\frac{10}{31L}$ and $\\rho \\leq \\frac{5}{62L}$\n",
    "$$\n",
    "T_k \\leq \\begin{pmatrix} F(x^{k+1}) \\\\ F(x^k) \\\\  F(\\tilde{x}^{k}) \\\\  F(\\tilde{x}^{k-1})\\end{pmatrix}^\\top \\left(\\begin{pmatrix} -\\frac{1}{3} & -\\frac{1}{2} &  \\frac{1}{2} & \\frac{1}{3} \\\\ -\\frac{1}{2} & -\\frac{3}{2} & 1 & 1\\\\ \\frac{1}{2} & 1 & -\\frac{4927}{5766} & - \\frac{1861}{2883}\\\\ \\frac{1}{3} & 1 & - \\frac{1861}{2883} & - \\frac{661}{961}\\end{pmatrix} \\otimes  I_d\\right) \\begin{pmatrix} F(x^{k+1}) \\\\ F(x^k) \\\\  F(\\tilde{x}^{k}) \\\\  F(\\tilde{x}^{k-1})\\end{pmatrix}\n",
    "$$"
   ]
  },
  {
   "cell_type": "markdown",
   "id": "fb2b1a85",
   "metadata": {},
   "source": [
    "### Estimation of $A\\left(\\frac{10}{31 L}, L, \\frac{5}{62L}\\right)$"
   ]
  },
  {
   "cell_type": "code",
   "execution_count": 12,
   "id": "94afb277",
   "metadata": {},
   "outputs": [],
   "source": [
    "import numpy as np"
   ]
  },
  {
   "cell_type": "code",
   "execution_count": 13,
   "id": "b3555aa7",
   "metadata": {},
   "outputs": [
    {
     "name": "stdout",
     "output_type": "stream",
     "text": [
      "[[-0.33333333 -0.5         0.5         0.33333333]\n",
      " [-0.5        -1.5         1.          1.        ]\n",
      " [ 0.5         1.         -0.85449185 -0.64550815]\n",
      " [ 0.33333333  1.         -0.64550815 -0.68782518]]\n"
     ]
    }
   ],
   "source": [
    "L = 1.0\n",
    "gamma = 1.0/(3.1*L)\n",
    "rho = gamma/4\n",
    "\n",
    "matrix_A_numerical = np.array([[ -gamma + 8/3 * rho, -2*rho, 2/3 * gamma - 2/3 * rho, 1/3 * gamma],\n",
    "    [ -2*rho, -2 * gamma + 2 * rho, gamma, gamma],\n",
    "    [ 2/3 * gamma - 2/3 * rho, gamma,  3 * (L**2) * (gamma**3) - 4/3 * gamma + 2/3 * rho, -3 * L**2 * gamma**3 - 1/3 * gamma],\n",
    "    [ 1/3 * gamma, gamma, -3 * L**2 * gamma**3 - 1/3 * gamma, 3 * L**2 * gamma**3 - gamma]]) / gamma\n",
    "print(matrix_A_numerical)"
   ]
  },
  {
   "cell_type": "code",
   "execution_count": 14,
   "id": "0e92e930",
   "metadata": {},
   "outputs": [
    {
     "data": {
      "text/plain": [
       "array([-3.09070413e+00, -2.58459031e-01, -2.64871998e-02, -1.01919124e-16])"
      ]
     },
     "execution_count": 14,
     "metadata": {},
     "output_type": "execute_result"
    }
   ],
   "source": [
    "# this matrix is negative semidefinite\n",
    "np.linalg.eigvals(matrix_A_numerical)"
   ]
  },
  {
   "cell_type": "code",
   "execution_count": 15,
   "id": "02c01710",
   "metadata": {},
   "outputs": [
    {
     "name": "stdout",
     "output_type": "stream",
     "text": [
      "Eigenvalues:  [3.09068659e+00 2.50554248e-01 6.17315407e-17 1.44095255e-02]\n",
      "Eigenvalues are positive\n",
      "Determinant:  6.179481442698483e-19\n",
      "Determinant is non-negative\n"
     ]
    }
   ],
   "source": [
    "alpha = -0.01\n",
    "upper_bound_matrix = np.array([[0., 0., 0., 0.],\n",
    "                       [0., 0., 0., 0.],\n",
    "                       [0., 0., 1., -1.],\n",
    "                       [0., 0., -1., 1.]])\n",
    "\n",
    "print(\"Eigenvalues: \", np.linalg.eigvals(alpha*upper_bound_matrix - matrix_A_numerical))\n",
    "print(\"Eigenvalues are positive\")\n",
    "print(\"Determinant: \", np.linalg.det(alpha*upper_bound_matrix - matrix_A_numerical))\n",
    "print(\"Determinant is non-negative\")"
   ]
  },
  {
   "cell_type": "markdown",
   "id": "497a96ca",
   "metadata": {},
   "source": [
    "This implies that\n",
    "$$\n",
    "\\begin{pmatrix} -\\frac{1}{3} & -\\frac{1}{2} &  \\frac{1}{2} & \\frac{1}{3} \\\\ -\\frac{1}{2} & -\\frac{3}{2} & 1 & 1\\\\ \\frac{1}{2} & 1 & -\\frac{4927}{5766} & - \\frac{1861}{2883}\\\\ \\frac{1}{3} & 1 & - \\frac{1861}{2883} & - \\frac{661}{961}\\end{pmatrix} \\preccurlyeq -\\frac{1}{100}\\begin{pmatrix} 0 & 0 &  0 & 0 \\\\ 0 & 0 &  0 & 0\\\\ 0 & 0 &  1 & -1\\\\ 0 & 0 &  -1 & 1\\end{pmatrix}\n",
    "$$"
   ]
  },
  {
   "cell_type": "code",
   "execution_count": null,
   "id": "838ac3ff",
   "metadata": {},
   "outputs": [],
   "source": []
  }
 ],
 "metadata": {
  "kernelspec": {
   "display_name": "Python 3 (ipykernel)",
   "language": "python",
   "name": "python3"
  },
  "language_info": {
   "codemirror_mode": {
    "name": "ipython",
    "version": 3
   },
   "file_extension": ".py",
   "mimetype": "text/x-python",
   "name": "python",
   "nbconvert_exporter": "python",
   "pygments_lexer": "ipython3",
   "version": "3.9.12"
  }
 },
 "nbformat": 4,
 "nbformat_minor": 5
}
