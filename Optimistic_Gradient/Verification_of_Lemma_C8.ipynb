{
 "cells": [
  {
   "cell_type": "code",
   "execution_count": null,
   "id": "feb3d357",
   "metadata": {},
   "outputs": [],
   "source": [
    "# If PEPit is not installed yet, you can run this cell.\n",
    "!pip install pepit"
   ]
  },
  {
   "cell_type": "markdown",
   "id": "9c117011",
   "metadata": {},
   "source": [
    "# Code description"
   ]
  },
  {
   "cell_type": "markdown",
   "id": "8b460ebb",
   "metadata": {},
   "source": [
    "In this notebook, we numerically verify Lemma C.4 from \n",
    "\n",
    "> \"Convergence of Proximal Point and Extragradient-Based Methods Beyond Monotonicity: the Case of Negative Comonotonicity\""
   ]
  },
  {
   "cell_type": "markdown",
   "id": "3295693c",
   "metadata": {},
   "source": [
    "## Problem"
   ]
  },
  {
   "cell_type": "markdown",
   "id": "28ef7d73",
   "metadata": {},
   "source": [
    "We consider the following problem\n",
    "       $$ \\text{find } x^\\ast \\text{ such that }F(x^\\ast) = 0$$\n",
    "where $F:\\mathbb{R}^d \\to \\mathbb{R}^d$ is a maximal $\\rho$-negatively comonotone and $L$-Lipschitz operator."
   ]
  },
  {
   "cell_type": "markdown",
   "id": "76698932",
   "metadata": {},
   "source": [
    "## Algorithm"
   ]
  },
  {
   "cell_type": "markdown",
   "id": "2959ff34",
   "metadata": {},
   "source": [
    "We consider optimistic gradient method (OG) with stepsize policy $\\gamma_1=\\gamma_2=\\gamma$ with $\\tilde{x}^0 = x^0$ and for all $k > 0$\n",
    "$$\n",
    "\\tilde{x}^k = x^k - \\gamma F(\\tilde{x}^{k-1}),\n",
    "$$\n",
    "$$\n",
    "x^{k+1} = x^k - \\gamma F(\\tilde{x}^k)\n",
    "$$"
   ]
  },
  {
   "cell_type": "markdown",
   "id": "bf59eac7",
   "metadata": {},
   "source": [
    "## The goal"
   ]
  },
  {
   "cell_type": "markdown",
   "id": "3d6c496c",
   "metadata": {},
   "source": [
    "Let $k \\geq 1$, $\\rho \\leq \\frac{5}{62L}$ and $4\\rho \\leq \\gamma \\leq \\frac{10}{31L}$, and $\\Psi_k = \\|F(x^{k})\\|^2 + \\|F(x^{k}) - F(\\tilde{x}^{k-1})\\|^2$. Lemma C.8 states\n",
    "$$\n",
    "\\Psi_{k+1} - \\Psi_k \\leq -\\frac{1}{100}\\|F(\\tilde{x}^k) - F(\\tilde{x}^{k-1})\\|^2.\n",
    "$$\n",
    "\n",
    "\n",
    "Below we verify this inequality numerically"
   ]
  },
  {
   "cell_type": "code",
   "execution_count": 1,
   "id": "0f31c4fc",
   "metadata": {},
   "outputs": [],
   "source": [
    "# Run this code before executing the cell below\n",
    "from math import sqrt\n",
    "import numpy as np\n",
    "from PEPit import PEP\n",
    "\n",
    "from PEPit.function import Function\n",
    "\n",
    "\n",
    "class LipschitzNegativeComonotoneOperator(Function):\n",
    "    \n",
    "    def __init__(self,\n",
    "                 rho,\n",
    "                 L=1.,\n",
    "                 is_leaf=True,\n",
    "                 decomposition_dict=None,\n",
    "                 reuse_gradient=True):\n",
    "        \n",
    "        super().__init__(is_leaf=is_leaf,\n",
    "                         decomposition_dict=decomposition_dict,\n",
    "                         reuse_gradient=True)\n",
    "        # Store L and rho\n",
    "        self.rho = rho\n",
    "        self.L = L\n",
    "\n",
    "        if self.L == np.inf:\n",
    "            print(\"\\033[96m(PEPit) The class of Lipschitz negative comonotone operators is necessarily continuous.\\n\"\n",
    "                  \"To instantiate an operator, please avoid using the class LipschitzNegativeComonotoneOperator with\\n\"\n",
    "                  \" L == np.inf. Instead, please use the class NegativeComonotoneOperator (which accounts for the fact\\n\"\n",
    "                  \"that the image of the operator at certain points might not be a singleton).\\033[0m\")\n",
    "\n",
    "    def add_class_constraints(self):\n",
    "\n",
    "        for point_i in self.list_of_points:\n",
    "\n",
    "            xi, gi, fi = point_i\n",
    "\n",
    "            for point_j in self.list_of_points:\n",
    "\n",
    "                xj, gj, fj = point_j\n",
    "\n",
    "                if (xi != xj) | (gi != gj):\n",
    "                    # Interpolation conditions of negative comonotone operator class\n",
    "                    self.add_constraint((gi - gj) * (xi - xj) + self.rho * (gi - gj)**2 >= 0)\n",
    "                    # Interpolation conditions of Lipschitz operator class\n",
    "                    self.add_constraint((gi - gj)**2 - self.L**2 * (xi - xj)**2 <= 0)"
   ]
  },
  {
   "cell_type": "code",
   "execution_count": 2,
   "id": "c437591f",
   "metadata": {},
   "outputs": [
    {
     "name": "stdout",
     "output_type": "stream",
     "text": [
      "Did PEPit verify the potential (within prescribed numerical precision)? True  \t\n"
     ]
    },
    {
     "data": {
      "text/plain": [
       "-1.7728707391029275e-10"
      ]
     },
     "execution_count": 2,
     "metadata": {},
     "output_type": "execute_result"
    }
   ],
   "source": [
    "##########################################################\n",
    "# parameters: MODIFY HERE!\n",
    "\n",
    "# pick the parameters for which you want to verify\n",
    "# the inequality (numerically)\n",
    "L = 1;\n",
    "gamma = 1.0 / (3.1*L);\n",
    "rho = gamma / 4;\n",
    "\n",
    "##########################################################\n",
    "if rho > 5/62/L:\n",
    "    print('The value of rho is not within the prescribed bounds')\n",
    "if gamma < 4*rho:\n",
    "    print('The values of gamma and rho are not within the prescribed bounds')\n",
    "if gamma > 10/31/L:\n",
    "    print('The value of gamma is not within the prescribed bounds')\n",
    "\n",
    "\n",
    "# verbose & verification tolerance options\n",
    "verbose = 0;\n",
    "tolerance = 1e-5;\n",
    "\n",
    "# (0) Initialize an empty PEP\n",
    "problem = PEP()\n",
    "\n",
    "# (1) Set up the problem class\n",
    "L  =  L; rho = rho; # F is 1-Lipschitz and \\rho-negative comonotone\n",
    "F  = problem.declare_function(LipschitzNegativeComonotoneOperator, L=L, rho=rho)\n",
    "xs = F.stationary_point();  # x^* is a solution\n",
    "\n",
    "# (2) Set up the starting points\n",
    "tx0 = problem.set_initial_point() # this is \\tilde{x}^0\n",
    "x1  = problem.set_initial_point() # this is x^1\n",
    "\n",
    "# (3) Run the algorithm\n",
    "tx1     = x1 - gamma * F.gradient(tx0); \n",
    "x2      = x1 - gamma * F.gradient(tx1);\n",
    "\n",
    "# (3) define the expressions (recall that our objective is to verify that\n",
    "#     psi2 - psi1 - residual<=0 for all F and sequence generated by the\n",
    "#     optimistic gradient method.\n",
    "\n",
    "psi1 = F.gradient(x1)**2 +  ( F.gradient(x1) - F.gradient(tx0) )**2;\n",
    "psi2 = F.gradient(x2)**2 + ( F.gradient(x2) - F.gradient(tx1) )**2;\n",
    "residual =  -0.01 * ( F.gradient(tx1) - F.gradient(tx0) )**2;\n",
    "\n",
    "# (4) Set up the performance measure:\n",
    "expression_to_verify = psi2 - psi1 - residual;\n",
    "problem.set_performance_metric(expression_to_verify);\n",
    "\n",
    "# (5) Solve the PEP\n",
    "worstcase_value = problem.solve(verbose=verbose)\n",
    "\n",
    "\n",
    "# (6) is the potential verified? Success if expression2 - expression1 <= 0 for the \n",
    "#     choice of the parameters above.\n",
    "print('Did PEPit verify the potential (within prescribed numerical precision)? {:}  \\t'.format(worstcase_value<tolerance))\n",
    "worstcase_value # this should be close to zero"
   ]
  },
  {
   "cell_type": "code",
   "execution_count": null,
   "id": "e8624cea",
   "metadata": {},
   "outputs": [],
   "source": []
  }
 ],
 "metadata": {
  "kernelspec": {
   "display_name": "Python 3 (ipykernel)",
   "language": "python",
   "name": "python3"
  },
  "language_info": {
   "codemirror_mode": {
    "name": "ipython",
    "version": 3
   },
   "file_extension": ".py",
   "mimetype": "text/x-python",
   "name": "python",
   "nbconvert_exporter": "python",
   "pygments_lexer": "ipython3",
   "version": "3.9.12"
  }
 },
 "nbformat": 4,
 "nbformat_minor": 5
}
