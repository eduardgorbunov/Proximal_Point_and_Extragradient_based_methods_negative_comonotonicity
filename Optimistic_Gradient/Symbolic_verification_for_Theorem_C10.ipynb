{
 "cells": [
  {
   "cell_type": "markdown",
   "id": "9c117011",
   "metadata": {},
   "source": [
    "# Code description"
   ]
  },
  {
   "cell_type": "markdown",
   "id": "8b460ebb",
   "metadata": {},
   "source": [
    "In this notebook, we verify the part of the proof of Theorem C.10 from \n",
    "\n",
    "> \"Convergence of Proximal Point and Extragradient-Based Methods Beyond Monotonicity: the Case of Negative Comonotonicity\"\n",
    "\n",
    "that involves computation of eigenvalues and singular values."
   ]
  },
  {
   "cell_type": "markdown",
   "id": "3295693c",
   "metadata": {},
   "source": [
    "## Problem"
   ]
  },
  {
   "cell_type": "markdown",
   "id": "28ef7d73",
   "metadata": {},
   "source": [
    "We consider the following problem\n",
    "       $$ \\text{find } x^\\ast \\text{ such that }F(x^\\ast) = 0$$\n",
    "where $F:\\mathbb{R}^d \\to \\mathbb{R}^d$ is $\\rho$-negative comonotone and $L$-Lipschitz operator."
   ]
  },
  {
   "cell_type": "markdown",
   "id": "76698932",
   "metadata": {},
   "source": [
    "## Algorithm"
   ]
  },
  {
   "cell_type": "markdown",
   "id": "2959ff34",
   "metadata": {},
   "source": [
    "We consider Optimistic Gradient method (OG) with same-stepsize policy: $\\tilde{x}^0 = x^0$ and for all $k > 0$\n",
    "$$\n",
    "\\tilde{x}^k = x^k - \\gamma F(\\tilde{x}^{k-1}),\n",
    "$$\n",
    "$$\n",
    "x^{k+1} = x^k - \\gamma F(\\tilde{x}^k)\n",
    "$$"
   ]
  },
  {
   "cell_type": "markdown",
   "id": "bf59eac7",
   "metadata": {},
   "source": [
    "## The goal"
   ]
  },
  {
   "cell_type": "markdown",
   "id": "3d6c496c",
   "metadata": {},
   "source": [
    "In the proof of Theorem C.10, we provide the formulas for eignevalues of\n",
    "$$\n",
    "T = \\begin{pmatrix}\n",
    "       1 - \\gamma_2 L & \\gamma_1\\gamma_2L^2\\\\ \n",
    "       1 & - \\gamma_1 L\n",
    "       \\end{pmatrix}\n",
    "$$\n",
    "and for the maximal singular value of\n",
    "$$\n",
    "B = \\begin{pmatrix}\n",
    "       I - \\gamma_2 LA & \\gamma_1\\gamma_2L^2 A^2\\\\ \n",
    "       I & - \\gamma_1 LA\n",
    "       \\end{pmatrix}, \\quad \\text{where} \\quad A = \\begin{pmatrix} \\cos\\theta & -\\sin\\theta \\\\ \\sin\\theta & \\cos\\theta \\end{pmatrix} = \\begin{pmatrix} -\\frac{1}{2} & -\\frac{\\sqrt{3}}{2} \\\\ \\frac{\\sqrt{3}}{2} & \\frac{1}{2} \\end{pmatrix}.\n",
    "$$\n",
    "Below we derive these formulas symbolically."
   ]
  },
  {
   "cell_type": "code",
   "execution_count": 1,
   "id": "24d97c2f-45e6-42db-bfd3-0116821b4f4a",
   "metadata": {},
   "outputs": [],
   "source": [
    "import sympy\n",
    "from sympy import Matrix, cos, sin, symbols, eye, pi, sqrt"
   ]
  },
  {
   "cell_type": "markdown",
   "id": "a9552f5c",
   "metadata": {},
   "source": [
    "### Eigenvalues of $T$"
   ]
  },
  {
   "cell_type": "code",
   "execution_count": 2,
   "id": "496ffae6",
   "metadata": {},
   "outputs": [
    {
     "data": {
      "text/latex": [
       "$\\displaystyle \\left[\\begin{matrix}- L g_{2} + 1 & L^{2} g_{1} g_{2}\\\\1 & - L g_{1}\\end{matrix}\\right]$"
      ],
      "text/plain": [
       "Matrix([\n",
       "[-L*g_2 + 1, L**2*g_1*g_2],\n",
       "[         1,       -L*g_1]])"
      ]
     },
     "execution_count": 2,
     "metadata": {},
     "output_type": "execute_result"
    }
   ],
   "source": [
    "γ_1 = symbols('g_1', positive=True)\n",
    "γ_2 = symbols('g_2', positive=True)\n",
    "L = symbols('L', positive=True)\n",
    "T = Matrix([[1 - γ_2*L, γ_1*γ_2*(L**2)],\n",
    "           [1, -γ_1*L]])\n",
    "T"
   ]
  },
  {
   "cell_type": "code",
   "execution_count": 3,
   "id": "2f5807b5",
   "metadata": {},
   "outputs": [
    {
     "data": {
      "text/latex": [
       "$\\displaystyle - \\frac{L g_{1}}{2} - \\frac{L g_{2}}{2} - \\frac{\\sqrt{L^{2} g_{1}^{2} + 2 L^{2} g_{1} g_{2} + L^{2} g_{2}^{2} + 2 L g_{1} - 2 L g_{2} + 1}}{2} + \\frac{1}{2}$"
      ],
      "text/plain": [
       "-L*g_1/2 - L*g_2/2 - sqrt(L**2*g_1**2 + 2*L**2*g_1*g_2 + L**2*g_2**2 + 2*L*g_1 - 2*L*g_2 + 1)/2 + 1/2"
      ]
     },
     "execution_count": 3,
     "metadata": {},
     "output_type": "execute_result"
    }
   ],
   "source": [
    "lambd = T.eigenvals(multiple=True)\n",
    "lambd[0]"
   ]
  },
  {
   "cell_type": "markdown",
   "id": "be8c908f",
   "metadata": {},
   "source": [
    "This is exactly the eigenvalue that we report in the proof. One can see that it is a decreasing function of $\\gamma_1$. Taking $\\gamma_1 = \\frac{1}{L}$, we get an upper bound for this eigenvalue:"
   ]
  },
  {
   "cell_type": "code",
   "execution_count": 4,
   "id": "1a1ab8bb",
   "metadata": {},
   "outputs": [
    {
     "data": {
      "text/latex": [
       "$\\displaystyle - \\frac{L g_{2}}{2} - 1.0 \\sqrt{0.25 L^{2} g_{2}^{2} + 1}$"
      ],
      "text/plain": [
       "-L*g_2/2 - 1.0*sqrt(0.25*L**2*g_2**2 + 1)"
      ]
     },
     "execution_count": 4,
     "metadata": {},
     "output_type": "execute_result"
    }
   ],
   "source": [
    "lambd[0].subs(γ_1, 1.0/L)"
   ]
  },
  {
   "cell_type": "markdown",
   "id": "bfcaa74f",
   "metadata": {},
   "source": [
    "Clearly, it is smaller than $1$"
   ]
  },
  {
   "cell_type": "markdown",
   "id": "fc179105",
   "metadata": {},
   "source": [
    "### Spectral norm of $B$"
   ]
  },
  {
   "cell_type": "code",
   "execution_count": 5,
   "id": "5a5add51-b418-4976-9f84-f290571f6a45",
   "metadata": {},
   "outputs": [],
   "source": [
    "θ = symbols('θ')\n",
    "γ_1 = symbols('g_1', positive=True)\n",
    "γ_2 = symbols('g_2', positive=True)\n",
    "L = symbols('L', positive=True)\n",
    "A = Matrix([[cos(θ), -sin(θ)],[sin(θ), cos(θ)]])\n",
    "\n",
    "B = Matrix([[eye(2) - γ_2*L*A, γ_1*γ_2*(L**2)*(A**2)], \n",
    "            [eye(2), -γ_1*L*A]])"
   ]
  },
  {
   "cell_type": "code",
   "execution_count": 6,
   "id": "76eddf63-e37c-4414-965a-92d2c1d658bd",
   "metadata": {},
   "outputs": [],
   "source": [
    "B.simplify()"
   ]
  },
  {
   "cell_type": "code",
   "execution_count": 7,
   "id": "68bf0068-94ed-48de-8a1a-b95f665cb91d",
   "metadata": {},
   "outputs": [],
   "source": [
    "B = B.subs(θ, 2*pi/3)"
   ]
  },
  {
   "cell_type": "code",
   "execution_count": 8,
   "id": "2ccd9fb8-6248-47d8-844c-7cfb3590983d",
   "metadata": {},
   "outputs": [
    {
     "data": {
      "text/latex": [
       "$\\displaystyle \\left[\\begin{matrix}\\frac{L g_{2}}{2} + 1 & \\frac{\\sqrt{3} L g_{2}}{2} & - \\frac{L^{2} g_{1} g_{2}}{2} & \\frac{\\sqrt{3} L^{2} g_{1} g_{2}}{2}\\\\- \\frac{\\sqrt{3} L g_{2}}{2} & \\frac{L g_{2}}{2} + 1 & - \\frac{\\sqrt{3} L^{2} g_{1} g_{2}}{2} & - \\frac{L^{2} g_{1} g_{2}}{2}\\\\1 & 0 & \\frac{L g_{1}}{2} & \\frac{\\sqrt{3} L g_{1}}{2}\\\\0 & 1 & - \\frac{\\sqrt{3} L g_{1}}{2} & \\frac{L g_{1}}{2}\\end{matrix}\\right]$"
      ],
      "text/plain": [
       "Matrix([\n",
       "[     L*g_2/2 + 1, sqrt(3)*L*g_2/2,         -L**2*g_1*g_2/2, sqrt(3)*L**2*g_1*g_2/2],\n",
       "[-sqrt(3)*L*g_2/2,     L*g_2/2 + 1, -sqrt(3)*L**2*g_1*g_2/2,        -L**2*g_1*g_2/2],\n",
       "[               1,               0,                 L*g_1/2,        sqrt(3)*L*g_1/2],\n",
       "[               0,               1,        -sqrt(3)*L*g_1/2,                L*g_1/2]])"
      ]
     },
     "execution_count": 8,
     "metadata": {},
     "output_type": "execute_result"
    }
   ],
   "source": [
    "B"
   ]
  },
  {
   "cell_type": "code",
   "execution_count": 9,
   "id": "da932c66-04cd-453c-96a6-b4873891c08c",
   "metadata": {},
   "outputs": [
    {
     "data": {
      "text/latex": [
       "$\\displaystyle \\max\\left(\\sqrt{\\frac{L^{4} g_{1}^{2} g_{2}^{2}}{2} + \\frac{L^{2} g_{1}^{2}}{2} + \\frac{L^{2} g_{2}^{2}}{2} + \\frac{L g_{2}}{2} - \\frac{\\sqrt{L^{4} g_{1}^{2} g_{2}^{2} + L^{2} g_{1}^{2} + L^{2} g_{2}^{2} - 2 L g_{1} + L g_{2} + 2} \\sqrt{L^{4} g_{1}^{2} g_{2}^{2} + L^{2} g_{1}^{2} + L^{2} g_{2}^{2} + 2 L g_{1} + L g_{2} + 2}}{2} + 1}, \\sqrt{\\frac{L^{4} g_{1}^{2} g_{2}^{2}}{2} + \\frac{L^{2} g_{1}^{2}}{2} + \\frac{L^{2} g_{2}^{2}}{2} + \\frac{L g_{2}}{2} + \\frac{\\sqrt{L^{4} g_{1}^{2} g_{2}^{2} + L^{2} g_{1}^{2} + L^{2} g_{2}^{2} - 2 L g_{1} + L g_{2} + 2} \\sqrt{L^{4} g_{1}^{2} g_{2}^{2} + L^{2} g_{1}^{2} + L^{2} g_{2}^{2} + 2 L g_{1} + L g_{2} + 2}}{2} + 1}\\right)$"
      ],
      "text/plain": [
       "Max(sqrt(L**4*g_1**2*g_2**2/2 + L**2*g_1**2/2 + L**2*g_2**2/2 + L*g_2/2 - sqrt(L**4*g_1**2*g_2**2 + L**2*g_1**2 + L**2*g_2**2 - 2*L*g_1 + L*g_2 + 2)*sqrt(L**4*g_1**2*g_2**2 + L**2*g_1**2 + L**2*g_2**2 + 2*L*g_1 + L*g_2 + 2)/2 + 1), sqrt(L**4*g_1**2*g_2**2/2 + L**2*g_1**2/2 + L**2*g_2**2/2 + L*g_2/2 + sqrt(L**4*g_1**2*g_2**2 + L**2*g_1**2 + L**2*g_2**2 - 2*L*g_1 + L*g_2 + 2)*sqrt(L**4*g_1**2*g_2**2 + L**2*g_1**2 + L**2*g_2**2 + 2*L*g_1 + L*g_2 + 2)/2 + 1))"
      ]
     },
     "execution_count": 9,
     "metadata": {},
     "output_type": "execute_result"
    }
   ],
   "source": [
    "v = B.singular_values()\n",
    "B.norm(2)"
   ]
  },
  {
   "cell_type": "markdown",
   "id": "d5487515",
   "metadata": {},
   "source": [
    "The maximum is attained on the second term, which corresponds to the following singular value"
   ]
  },
  {
   "cell_type": "code",
   "execution_count": 10,
   "id": "4c2f1459-9b69-4535-8389-250bfc091785",
   "metadata": {},
   "outputs": [
    {
     "data": {
      "text/latex": [
       "$\\displaystyle \\frac{\\sqrt{2} \\sqrt{L^{4} g_{1}^{2} g_{2}^{2} + L^{2} g_{1}^{2} + L^{2} g_{2}^{2} + L g_{2} + \\sqrt{L^{4} g_{1}^{2} g_{2}^{2} + L^{2} g_{1}^{2} + L^{2} g_{2}^{2} - 2 L g_{1} + L g_{2} + 2} \\sqrt{L^{4} g_{1}^{2} g_{2}^{2} + L^{2} g_{1}^{2} + L^{2} g_{2}^{2} + 2 L g_{1} + L g_{2} + 2} + 2}}{2}$"
      ],
      "text/plain": [
       "sqrt(2)*sqrt(L**4*g_1**2*g_2**2 + L**2*g_1**2 + L**2*g_2**2 + L*g_2 + sqrt(L**4*g_1**2*g_2**2 + L**2*g_1**2 + L**2*g_2**2 - 2*L*g_1 + L*g_2 + 2)*sqrt(L**4*g_1**2*g_2**2 + L**2*g_1**2 + L**2*g_2**2 + 2*L*g_1 + L*g_2 + 2) + 2)/2"
      ]
     },
     "execution_count": 10,
     "metadata": {},
     "output_type": "execute_result"
    }
   ],
   "source": [
    "v[0].simplify()"
   ]
  },
  {
   "cell_type": "markdown",
   "id": "5dbb1e3a",
   "metadata": {},
   "source": [
    "Let us verify that it can be written as \n",
    "$$\n",
    "\\sqrt{c + \\sqrt{c^2 - L^2\\gamma_1^2}}, \\quad \\text{where}\\quad c = \\frac{L^2\\gamma_1^2\\gamma_2^2 + L^2\\gamma_1^2 + L^2\\gamma_2^2 + L\\gamma_2}{2} + 1\n",
    "$$"
   ]
  },
  {
   "cell_type": "code",
   "execution_count": 11,
   "id": "17fde395",
   "metadata": {},
   "outputs": [
    {
     "data": {
      "text/latex": [
       "$\\displaystyle \\frac{\\sqrt{2} \\sqrt{L^{4} g_{1}^{2} g_{2}^{2} + L^{2} g_{1}^{2} + L^{2} g_{2}^{2} + L g_{2} + \\sqrt{- 4 L^{2} g_{1}^{2} + \\left(L^{4} g_{1}^{2} g_{2}^{2} + L^{2} g_{1}^{2} + L^{2} g_{2}^{2} + L g_{2} + 2\\right)^{2}} + 2}}{2}$"
      ],
      "text/plain": [
       "sqrt(2)*sqrt(L**4*g_1**2*g_2**2 + L**2*g_1**2 + L**2*g_2**2 + L*g_2 + sqrt(-4*L**2*g_1**2 + (L**4*g_1**2*g_2**2 + L**2*g_1**2 + L**2*g_2**2 + L*g_2 + 2)**2) + 2)/2"
      ]
     },
     "execution_count": 11,
     "metadata": {},
     "output_type": "execute_result"
    }
   ],
   "source": [
    "c = ((L**4)*(γ_1**2)*(γ_2**2) + (L**2)*(γ_1**2) + (L**2)*(γ_2**2) + L*γ_2)/2 + 1\n",
    "norm_from_the_paper = sqrt(c + sqrt(c**2 - (L**2)*(γ_1**2)))\n",
    "norm_from_the_paper.simplify()"
   ]
  },
  {
   "cell_type": "code",
   "execution_count": 12,
   "id": "6dfeb7c7",
   "metadata": {},
   "outputs": [
    {
     "data": {
      "text/latex": [
       "$\\displaystyle 0$"
      ],
      "text/plain": [
       "0"
      ]
     },
     "execution_count": 12,
     "metadata": {},
     "output_type": "execute_result"
    }
   ],
   "source": [
    "difference = v[0]**2 - norm_from_the_paper**2\n",
    "difference.simplify()"
   ]
  },
  {
   "cell_type": "markdown",
   "id": "c2230589",
   "metadata": {},
   "source": [
    "This justifies our derivations"
   ]
  }
 ],
 "metadata": {
  "kernelspec": {
   "display_name": "Python 3 (ipykernel)",
   "language": "python",
   "name": "python3"
  },
  "language_info": {
   "codemirror_mode": {
    "name": "ipython",
    "version": 3
   },
   "file_extension": ".py",
   "mimetype": "text/x-python",
   "name": "python",
   "nbconvert_exporter": "python",
   "pygments_lexer": "ipython3",
   "version": "3.9.12"
  }
 },
 "nbformat": 4,
 "nbformat_minor": 5
}
