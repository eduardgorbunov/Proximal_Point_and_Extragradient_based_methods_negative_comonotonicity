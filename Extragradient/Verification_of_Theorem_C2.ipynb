{
 "cells": [
  {
   "cell_type": "code",
   "execution_count": null,
   "id": "feb3d357",
   "metadata": {},
   "outputs": [],
   "source": [
    "# If PEPit is not installed yet, you can run this cell.\n",
    "!pip install pepit"
   ]
  },
  {
   "cell_type": "markdown",
   "id": "9c117011",
   "metadata": {},
   "source": [
    "# Code description"
   ]
  },
  {
   "cell_type": "markdown",
   "id": "8b460ebb",
   "metadata": {},
   "source": [
    "In this notebook, we verify (numerically) Theorem C.2 from \n",
    "\n",
    "> \"Convergence of Proximal Point and Extragradient-Based Methods Beyond Monotonicity: the Case of Negative Comonotonicity\""
   ]
  },
  {
   "cell_type": "markdown",
   "id": "3295693c",
   "metadata": {},
   "source": [
    "## Problem"
   ]
  },
  {
   "cell_type": "markdown",
   "id": "28ef7d73",
   "metadata": {},
   "source": [
    "We consider the following problem\n",
    "       $$ \\text{find } x^\\ast \\text{ such that }F(x^\\ast) = 0$$\n",
    "where $F:\\mathbb{R}^d \\to \\mathbb{R}^d$ is a maximal $\\rho$-negatively comonotone and $L$-Lipschitz operator."
   ]
  },
  {
   "cell_type": "markdown",
   "id": "76698932",
   "metadata": {},
   "source": [
    "## Algorithm"
   ]
  },
  {
   "cell_type": "markdown",
   "id": "2959ff34",
   "metadata": {},
   "source": [
    "We consider the Extragradient method (EG) with stepsize $\\gamma_1=\\gamma_2=\\gamma$ policy: for all $k \\geq 0$\n",
    "$$\n",
    "\\tilde{x}^k = x^k - \\gamma F(x^{k}),\n",
    "$$\n",
    "$$\n",
    "x^{k+1} = x^k - \\gamma F(\\tilde{x}^k)\n",
    "$$"
   ]
  },
  {
   "cell_type": "markdown",
   "id": "bf59eac7",
   "metadata": {},
   "source": [
    "## The goal"
   ]
  },
  {
   "cell_type": "markdown",
   "id": "3d6c496c",
   "metadata": {},
   "source": [
    "Theorem C.2 states that for all $k \\geq 0$ and for any $\\gamma \\geq 0$, $L \\geq 0$ and $\\rho \\geq 0$ such that $4\\rho \\leq \\gamma \\leq \\frac{1}{2L}$ we have\n",
    "$$\n",
    "\\Phi_{k+1} \\leq \\Phi_k,\\quad \\text{where}\\quad \\Phi_k = \\|x^k - x^*\\|^2 + \\left(k\\gamma^2\\left(1 - \\frac{5\\rho}{2\\gamma} - L^2\\gamma^2\\right) + 40\\gamma\\rho\\right)\\|F(x^k)\\|^2.\n",
    "$$\n",
    "\n",
    "Below we verify this inequality numerically."
   ]
  },
  {
   "cell_type": "code",
   "execution_count": 1,
   "id": "0f31c4fc",
   "metadata": {},
   "outputs": [],
   "source": [
    "# Run this code before executing the cell below\n",
    "from math import sqrt\n",
    "import numpy as np\n",
    "from PEPit import PEP\n",
    "\n",
    "from PEPit.function import Function\n",
    "\n",
    "\n",
    "class LipschitzNegativeComonotoneOperator(Function):\n",
    "\n",
    "    \n",
    "    def __init__(self,\n",
    "                 rho,\n",
    "                 L=1.,\n",
    "                 is_leaf=True,\n",
    "                 decomposition_dict=None,\n",
    "                 reuse_gradient=True):\n",
    "        \n",
    "        super().__init__(is_leaf=is_leaf,\n",
    "                         decomposition_dict=decomposition_dict,\n",
    "                         reuse_gradient=True)\n",
    "        # Store L and rho\n",
    "        self.rho = rho\n",
    "        self.L = L\n",
    "\n",
    "        if self.L == np.inf:\n",
    "            print(\"\\033[96m(PEPit) The class of Lipschitz negative comonotone operators is necessarily continuous.\\n\"\n",
    "                  \"To instantiate an operator, please avoid using the class LipschitzNegativeComonotoneOperator with\\n\"\n",
    "                  \" L == np.inf. Instead, please use the class NegativeComonotoneOperator (which accounts for the fact\\n\"\n",
    "                  \"that the image of the operator at certain points might not be a singleton).\\033[0m\")\n",
    "\n",
    "    def add_class_constraints(self):\n",
    "\n",
    "        for point_i in self.list_of_points:\n",
    "\n",
    "            xi, gi, fi = point_i\n",
    "\n",
    "            for point_j in self.list_of_points:\n",
    "\n",
    "                xj, gj, fj = point_j\n",
    "\n",
    "                if (xi != xj) | (gi != gj):\n",
    "                    # Interpolation conditions of negative comonotone operator class\n",
    "                    self.add_constraint((gi - gj) * (xi - xj) + self.rho * (gi - gj)**2 >= 0)\n",
    "                    # Interpolation conditions of Lipschitz operator class\n",
    "                    self.add_constraint((gi - gj)**2 - self.L**2 * (xi - xj)**2 <= 0)"
   ]
  },
  {
   "cell_type": "code",
   "execution_count": 2,
   "id": "c437591f",
   "metadata": {},
   "outputs": [
    {
     "name": "stdout",
     "output_type": "stream",
     "text": [
      "Did PEPit verify the potential (within prescribed numerical precision)? True  \t\n"
     ]
    },
    {
     "data": {
      "text/plain": [
       "5.0072868006628415e-09"
      ]
     },
     "execution_count": 2,
     "metadata": {},
     "output_type": "execute_result"
    }
   ],
   "source": [
    "##########################################################\n",
    "# parameters: MODIFY HERE!\n",
    "\n",
    "# pick the parameters for which you want to verify\n",
    "# the inequality (numerically)\n",
    "L = 1;\n",
    "gamma = 0.5*L;\n",
    "rho = 0.25*gamma;\n",
    "k = 100000; #too large values might make the solver bug\n",
    "\n",
    "# verbose & verification tolerance options\n",
    "verbose = 0;\n",
    "tolerance = 1e-5;\n",
    "##########################################################\n",
    "\n",
    "\n",
    "# (0) Initialize an empty PEP\n",
    "problem = PEP()\n",
    "\n",
    "# (1) Set up the problem class\n",
    "L  =  L; rho = rho; # F is 1-Lipschitz and \\rho-negative comonotone\n",
    "F  = problem.declare_function(LipschitzNegativeComonotoneOperator, L=L, rho=rho)\n",
    "xs = F.stationary_point();  # x^* is a solution\n",
    "\n",
    "# (2) Set up the starting points\n",
    "x0 = problem.set_initial_point() # this is x^0\n",
    "\n",
    "# (3) Run the algorithm\n",
    "tx0     = x0 - gamma * F.gradient(x0); \n",
    "x1      = x0 - gamma * F.gradient(tx0);\n",
    "\n",
    "# (3) define the expressions (recall that our objective is to verify that\n",
    "#     expression2<=expression1 for all F and sequence generated by the\n",
    "#     extragradient method.\n",
    "\n",
    "psi0 = F.gradient(x0)**2;\n",
    "psi1 = F.gradient(x1)**2;\n",
    "\n",
    "\n",
    "coefficient1 = (gamma**2) * (1 - 5.0*rho/(2*gamma) - (L**2)*(gamma**2))\n",
    "coefficient2 = 40 * gamma * rho\n",
    "\n",
    "expression1 = (x0 - xs)**2 + (k * coefficient1 + coefficient2 )*psi0\n",
    "expression2 = (x1 - xs)**2 + ((k+1) * coefficient1 + coefficient2 )*psi1\n",
    "\n",
    "\n",
    "# (4) Set up the performance measure:\n",
    "expression_to_verify = expression2 - expression1;\n",
    "problem.set_performance_metric(expression_to_verify);\n",
    "\n",
    "# (5) Solve the PEP\n",
    "worstcase_value = problem.solve(verbose=verbose)\n",
    "\n",
    "\n",
    "# (6) is the potential verified? Success if MAX(expression_to_verify) <= numerical_tolerance for the \n",
    "#     choice of the parameters above.\n",
    "print('Did PEPit verify the potential (within prescribed numerical precision)? {:}  \\t'.format(worstcase_value<tolerance))\n",
    "worstcase_value # this should be close to zero"
   ]
  },
  {
   "cell_type": "code",
   "execution_count": null,
   "id": "1ebc23e2",
   "metadata": {},
   "outputs": [],
   "source": []
  }
 ],
 "metadata": {
  "kernelspec": {
   "display_name": "Python 3 (ipykernel)",
   "language": "python",
   "name": "python3"
  },
  "language_info": {
   "codemirror_mode": {
    "name": "ipython",
    "version": 3
   },
   "file_extension": ".py",
   "mimetype": "text/x-python",
   "name": "python",
   "nbconvert_exporter": "python",
   "pygments_lexer": "ipython3",
   "version": "3.9.12"
  }
 },
 "nbformat": 4,
 "nbformat_minor": 5
}
